{
 "cells": [
  {
   "cell_type": "markdown",
   "metadata": {},
   "source": [
    "### Define a pseudocaode and flowchart\n",
    "- A pseudocode is a step by step description of an algorithm or program.It acts as a blueprint \n",
    "for how an algorithm should work.\n",
    "\n",
    "- A flowchart is a visual representation of an algorithm or program. It is a diagram that shows\n",
    "\n",
    "\n"
   ]
  },
  {
   "cell_type": "markdown",
   "metadata": {},
   "source": [
    "### Explain how pseudocodes help in algorithm design\n",
    "Pseudocode breaks down complex algorithms into a number of simple understandable steps."
   ]
  },
  {
   "cell_type": "markdown",
   "metadata": {},
   "source": [
    "### An example of simple algorithm using pseudocode and flow chart\n",
    "#This program will compare two numbers to determine the greatest\n",
    "- START \n",
    "    - INPUT num1\n",
    "    - INPUT num2\n",
    "    - IF num1 > num2\n",
    "      -  PRINT \"num1\"\n",
    "    - ELSE\n",
    "        - PRINT \"num2\"\n",
    "- STOP   \n"
   ]
  },
  {
   "cell_type": "markdown",
   "metadata": {},
   "source": [
    "#### Finding the largest of three numbers\n",
    "#This program accepts three numbers and prints the largest number\n",
    "- START\n",
    "    - INPUT num1\n",
    "    - INPUT num2\n",
    "    - INPUT num3\n",
    "\n",
    "    - IF num1 > num2 AND  num1 > num3 THEN\n",
    "        - PRINT \"num1 \"\n",
    "    - ELSE IF numb2 > num1 AND num2 > num3 THEN\n",
    "        - PRINT \"num2 \"\n",
    "    - ELSE\n",
    "        - PRINT \"num3 \"\n",
    "    - END IF\n",
    "- STOP\n"
   ]
  },
  {
   "cell_type": "markdown",
   "metadata": {},
   "source": [
    "### Printing even numbers from 1 to 50\n",
    "#This program will prints all even numbers from 1 to 50\n",
    "- START\n",
    "    - FOR num FROM 1 TO 50 DO\n",
    "        - IF num MOD 2 = 0 THEN\n",
    "            - PRINT num\n",
    "        - ENDIF\n",
    "    - ENDFOR\n",
    "- END\n",
    "\n",
    "\n"
   ]
  },
  {
   "cell_type": "markdown",
   "metadata": {},
   "source": [
    "### Voting Eligibility checker\n",
    "#This program will ask a user for their age and prints \"Eligible to\n",
    "vote\" if the age is 18 or above; otherwise, it prints \"Not eligible to vote\".\n",
    "- START\n",
    "    - PRINT \"Enter your age\"\n",
    "    - READ age\n",
    "    - IF age >=18 THEN\n",
    "        - PRINT \"Eligible to vote\"\n",
    "       - ELSE\n",
    "       - PRINT \"Not eligible to vote\"\n",
    "- END\n",
    "\n",
    "\n"
   ]
  },
  {
   "cell_type": "markdown",
   "metadata": {},
   "source": [
    "### GCD Calculation\n",
    "#This  program performs a function takes two numbers as input and returns their \n",
    "Greatest Common Divisor \n",
    "- FUNCTION GCD(a,b)\n",
    "    - WHILE\n",
    "        - temp = b\n",
    "        - a = a MOD b\n",
    "        - a = temp\n",
    "    - END WHILE\n",
    "    - RETURN a\n",
    "- END FUNCTION\n",
    "\n"
   ]
  },
  {
   "cell_type": "markdown",
   "metadata": {},
   "source": [
    "###  Symbols used in flowcharts\n",
    "- Ovalis used to show  the start/end of a process\n",
    "\n",
    "\n",
    "- Rectangle shows a process such  calculations,assignments or making  decisions.\n",
    "\n",
    "\n",
    "- Parallelogram shows data input or output\n",
    "Example:Entering data, Displaying results.\n",
    "\n",
    "- Diamond is used to indicate a decision point, where the flow can branch based on a condition (usually yes/no or true/false).\n",
    "\n",
    "\n",
    "- Arrow shows the direction or flow of the process which connect the steps and guide the programmer from one action to the next.\n",
    "\n",
    "- Circle (Connector) connects different parts of the flowchart, especially when the chart is spread across multiple pages.\n",
    "\n",
    "\n",
    "### A pseudocode example\n",
    "- START (Oval)\n",
    "    - INPUT num (Parallelogram)\n",
    "    - IF num > 0 (Diamond)\n",
    "        - PRINT \"Positive\" (Parallelogram)\n",
    "    - ELSE IF num = 0 (Diamond)\n",
    "        - PRINT \"Zero\" (Parallelogram)\n",
    "    - ELSE\n",
    "        - PRINT \"Negative\" (Parallelogram)\n",
    "    - END IF\n",
    "- END (Oval)\n",
    "\n",
    "\n"
   ]
  },
  {
   "cell_type": "markdown",
   "metadata": {},
   "source": [
    "### Checking if a number is positive,negative or zero\n",
    "#This program determines whether a given number is\n",
    "positive, negative, or zero.\n",
    "- START\n",
    "    - PRINT \"Enter a number \"\n",
    "    - READ number\n",
    "\n",
    "    - IF number > 0 THEN\n",
    "        - PRINT \"The number is positive.\"\n",
    "    - ELSE if number < 0 THEN\n",
    "        - PRINT \"The number is negative.\"\n",
    "    - ELSE\n",
    "        - PRINT \"The number is zero.\"\n",
    "    - END IF\n",
    "- END\n",
    "\n"
   ]
  },
  {
   "cell_type": "markdown",
   "metadata": {},
   "source": [
    "### Suming All Numbers from 1 to N\n",
    "- START\n",
    "    - INPUT N         #Gets the upper limit\n",
    "    - SET sum = 0     #Initializes the sum to 0\n",
    "    - FOR i= 1 TO N    #Loops through the numbers  -from 1 tO N(inclusive)\n",
    "        sum = sum+i     #Adds the current number i to the sum\n",
    "    - END FOR\n",
    "    - PRINT \"The sum of numbers from 1 to N,\"is\",sum\n",
    "#outputs the result\n",
    "- END\n",
    "\n",
    "\n"
   ]
  },
  {
   "cell_type": "markdown",
   "metadata": {},
   "source": [
    "### ATM transaction process\n",
    "- SET correct_PIN = 5640 \n",
    "    - SET attempts = 0\n",
    "\n",
    "    - WHILE attempts < 3\n",
    "        - PRINT \"Enter your PIN: \"\n",
    "        - READ user_PIN\n",
    "\n",
    "        - IF user_PIN = correct_PIN THEN\n",
    "            - PRINT \"PIN correct. You can now withdraw money.\"\n",
    "            - PRINT \"Enter amount to withdraw: \"\n",
    "            - READ amount\n",
    "            - PRINT \"You have withdrawn \" + amount\n",
    "            - BREAK  # Exits the loop after successful transaction\n",
    "        - ELSE\n",
    "            - PRINT \"Incorrect PIN. Try again.\"\n",
    "            attempts = attempts + 1\n",
    "        - END IF\n",
    "    - END WHILE\n",
    "\n",
    "    - IF attempts = 3 THEN\n",
    "        - PRINT \"Account locked due to 3 incorrect PIN attempts.\"\n",
    "    - END IF\n",
    "- END\n",
    "\n"
   ]
  },
  {
   "cell_type": "markdown",
   "metadata": {},
   "source": [
    "### calculating the factorial of a number entered by the user.\n",
    "- START\n",
    "    - PRINT \"Enter a number:\"\n",
    "    - READ number\n",
    "\n",
    "    - SET factorial = 1\n",
    "\n",
    "    - FOR i = 1 TO number DO\n",
    "- factorial = factorial * i\n",
    "    - END FOR\n",
    "    - PRINT \"The factorial of \",number, \"is\",factorial\n",
    "\n",
    "- STOP\n"
   ]
  }
 ],
 "metadata": {
  "language_info": {
   "name": "python"
  }
 },
 "nbformat": 4,
 "nbformat_minor": 2
}
