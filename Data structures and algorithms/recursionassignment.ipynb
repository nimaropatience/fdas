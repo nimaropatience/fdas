{
 "cells": [
  {
   "cell_type": "markdown",
   "metadata": {},
   "source": [
    "# NIMARO PATIENCE,B29011"
   ]
  },
  {
   "cell_type": "markdown",
   "metadata": {},
   "source": [
    "# Introduction to recursion"
   ]
  },
  {
   "cell_type": "markdown",
   "metadata": {},
   "source": [
    "- Recursion is the  process of a function calling itself repeatedly within its code  to solve a problem by breaking it down into smaller,similar sub problem .It is essential to define an exit or termination condition in recursion to avoid potential infinite loops.\n",
    "\n"
   ]
  },
  {
   "cell_type": "markdown",
   "metadata": {},
   "source": [
    "### Difference between recursion and iteration\n",
    "-  recursion involves a function calling itself while iteration involves a loop repeating instructions until a certain condition is met."
   ]
  },
  {
   "cell_type": "markdown",
   "metadata": {},
   "source": [
    "### key properties of a recursive function\n",
    "- A recursive algorithm must have a base case.\n",
    "\n",
    "- A recursive algorithm must change its state and move toward the base case.\n",
    "\n",
    "- A recursive algorithm must call itself."
   ]
  },
  {
   "cell_type": "markdown",
   "metadata": {},
   "source": [
    "### How does recursion utilize memory \n",
    "- Recursion uses more memory to store data of every recursive call in an internal function call stack.\n",
    "\n",
    "- Whenever we call a function, its record is added to the stack and remains there until the call is finished.\n",
    "The internal systems use a stack because function calling follows LIFO structure, the last called function finishes first.\n",
    "- When any function is called from main(), the memory is allocated to it on the stack. A recursive function calls itself, the memory for a called function is allocated on top of memory allocated to the calling function and a different copy of local variables is created for each function call. When the base case is reached, the function returns its value to the function by whom it is called and memory is de-allocated and the process continues.\n",
    "\n",
    "### what is the  role of the call stack\n",
    "\n",
    "- The call stack grows as recursive function calls are made and begins to unwind as each function completes its execution\n"
   ]
  },
  {
   "cell_type": "markdown",
   "metadata": {},
   "source": [
    "### Why a base condition is necessary in recursion\n",
    "- It serves as the termination point for the recursive process, preventing infinite recursion and ensuring that the function eventually reaches a conclusion."
   ]
  },
  {
   "cell_type": "markdown",
   "metadata": {},
   "source": [
    "### Advantages of recursion\n",
    "- Recursion can simplify complex problems by breaking them down into smaller, more manageable pieces.\n",
    "- Recursive code can be more readable and easier to understand than iterative code.\n",
    "- Recursion is essential for some algorithms and data structures.\n",
    "- Also with recursion, we can reduce the length of code and become more readable and understandable to the user/ programmer.\n"
   ]
  },
  {
   "cell_type": "markdown",
   "metadata": {},
   "source": [
    "### Disadvantages of recursion\n",
    "- Recursion can be less efficient than iterative solutions in terms of memory and performance.\n",
    "- Recursive functions can be more challenging to debug and understand than iterative solutions.\n",
    "- Recursion can lead to stack overflow errors if the recursion depth is too high.\n",
    "\n"
   ]
  },
  {
   "cell_type": "markdown",
   "metadata": {},
   "source": [
    "### When a recursion should be used instead of iteration\n",
    "- Use recursion instead of iteration when a problem can be naturally broken down into smaller, similar subproblems."
   ]
  },
  {
   "cell_type": "markdown",
   "metadata": {},
   "source": [
    "# Factorial Calculation "
   ]
  },
  {
   "cell_type": "markdown",
   "metadata": {},
   "source": [
    "### How the factorial of a number is defined mathematically\n",
    "The factorial of a posaitive  integer is represented as n!and is defined as the product of all positive integers less than or equal to n.\n",
    "\n",
    "\n",
    "n!=nx(n-1)x(n-2)x--x1\n"
   ]
  },
  {
   "cell_type": "code",
   "execution_count": null,
   "metadata": {},
   "outputs": [
    {
     "name": "stdout",
     "output_type": "stream",
     "text": [
      "120\n"
     ]
    }
   ],
   "source": [
    "#How it can implemented recusrively\n",
    "def factorial(n):\n",
    "\n",
    "    if n==0:\n",
    "        return 1\n",
    "    return n* factorial(n-1)#The number multiplied by the ones less than it up to one\n",
    "print(factorial(5))"
   ]
  },
  {
   "cell_type": "code",
   "execution_count": null,
   "metadata": {},
   "outputs": [
    {
     "name": "stdout",
     "output_type": "stream",
     "text": [
      "120\n"
     ]
    }
   ],
   "source": [
    "#How can it be implemented iteratively\n",
    "def factorial_iterative(n):\n",
    "    result = 1\n",
    "    for i in range(1, n + 1):\n",
    "        result *= i\n",
    "    return result\n",
    "\n",
    "# Example \n",
    "print(factorial_iterative(5))\n",
    "\n"
   ]
  },
  {
   "cell_type": "markdown",
   "metadata": {},
   "source": [
    "# Time complexity of both recursive and iterative \n",
    "### Recursive Implementation\n",
    "Time Complexity: O(n)\n",
    "\n",
    "- Each recursive call to factorial(n-1) reduces the value of n by 1, leading to a total of 𝑛 calls until the base case (n == 0) is reached.\n",
    "\n",
    "- Therefore, the total number of function calls is proportional to 𝑛, resulting in a time complexity of O(n).\n",
    "\n",
    "\n",
    "### Iterative Implementation\n",
    "Time Complexity: O(n)\n",
    "\n",
    "- The iterative implementation uses a loop to calculate the factorial. The loop runs from 1 to 𝑛, performing a constant amount of work (multiplication) in each iteration.\n",
    "\n",
    "- Therefore, the total number of iterations is 𝑛, resulting in a time complexity of O(n)."
   ]
  },
  {
   "cell_type": "markdown",
   "metadata": {},
   "source": [
    "# Space requirements for recursive and iterative approaches\n",
    "### Recursive\n",
    "- The recursive approach relies on function calls that are stacked on top of each other until the base case is reached.\n",
    "\n",
    "- Each function call uses a stack frame, which requires memory space.\n",
    "\n",
    "- For a factorial calculation, there are 𝑛 recursive calls, leading to a call stack that can grow up to a depth of 𝑛. Thus, the space complexity of the recursive approach is O(n).\n",
    "\n",
    "### Iterative\n",
    " \n",
    "- The iterative approach uses a loop to calculate the factorial.\n",
    "\n",
    "- It only requires a constant amount of extra space for the variables involved in the calculation (e.g., result and the loop counter i).\n",
    "\n",
    "- Regardless of the value of 𝑛, the space used by the iterative approach remains constant. Thus, the space complexity of the iterative approach is O(1).\n",
    "\n",
    "\n"
   ]
  },
  {
   "cell_type": "markdown",
   "metadata": {},
   "source": [
    "# Checking for palindromes"
   ]
  },
  {
   "cell_type": "markdown",
   "metadata": {},
   "source": [
    "- A palindrome is a sequence of characters that reads the same backwards and forwards.\n",
    "\n",
    "\n",
    "### How a string can be checked for being a palindrome using recursion\n",
    "- Compare the first and last characters if they  match recursively ,check the substring that excludes these characters.If the string has one and zero characters ,it is a palindrome\n"
   ]
  },
  {
   "cell_type": "code",
   "execution_count": 2,
   "metadata": {},
   "outputs": [
    {
     "name": "stdout",
     "output_type": "stream",
     "text": [
      "True\n",
      "False\n"
     ]
    }
   ],
   "source": [
    "def is_palindrome(s, left=0, right=None):\n",
    "    if right is None:\n",
    "        right = len(s) - 1\n",
    "    if left >= right:  # Single character or empty string\n",
    "        return True\n",
    "    if s[left] != s[right]:  # Mismatch found\n",
    "        return False\n",
    "    return is_palindrome(s, left + 1, right - 1)  # Recursive step\n",
    "print(is_palindrome(\"radar\")) \n",
    "print(is_palindrome(\"hello\"))  \n"
   ]
  },
  {
   "cell_type": "markdown",
   "metadata": {},
   "source": [
    "### Base condition in a recursive palindrome check\n",
    "- Base condition in a recursive palindrome check is the point where tecursion stops \n",
    "- It occurs when a single character/empty string(Always a palindrome) or mismatch found(Not a palindrome)."
   ]
  },
  {
   "cell_type": "code",
   "execution_count": null,
   "metadata": {},
   "outputs": [
    {
     "name": "stdout",
     "output_type": "stream",
     "text": [
      "True\n",
      "False\n"
     ]
    }
   ],
   "source": [
    "# For example\n",
    "def is_palindrome_iterative(s):\n",
    "    left, right = 0, len(s) - 1\n",
    "    \n",
    "    while left < right:\n",
    "        if s[left] != s[right]:  # Mismatch found\n",
    "            return False\n",
    "        left += 1  # Move left pointer forward\n",
    "        right -= 1  # Move right pointer backward\n",
    "    \n",
    "    return True  # If loop completes, it's a palindrome\n",
    "print(is_palindrome(\"radar\"))  \n",
    "print(is_palindrome(\"bag\"))  \n"
   ]
  },
  {
   "cell_type": "markdown",
   "metadata": {},
   "source": [
    "### How the same problem can be solved iteratively\n",
    "- This can be done by comparing characters from the beginning and the end of the string and moving towards the center.\n",
    "\n",
    "### What is the time complexity of both approaches\n",
    "- The overall time complexity is 0(n) because:\n",
    "Checking if the string is empty or has a single character is 0(1) operation.\n",
    "The algorithm uses two pointers that moves towards the center,comparing pairs of characters.\n",
    "In the worst-case,scenario,it performs roughly n/2 comparisons which simplifies to 0(n)."
   ]
  },
  {
   "cell_type": "markdown",
   "metadata": {},
   "source": [
    "# Memory Usage In Recursion\n",
    "### How it is handled in memory\n",
    "- Recursion is handled using a call stack.\n",
    "- A new stack frame is created to store the functions variables and execution state.\n",
    "- Once the function completes,the stack frame is removed .\n",
    "\n",
    "### What happens when too many recursive cells are made.\n",
    "- If too many recursive calls are made, the call stack will overflow, resulting in a stack overflow error.\n",
    "- This happens because each recursive call consumes memory and excessive cells can fill up the systems available stack space.\n",
    "\n",
    "### What the recursion linit in Python,and how can that be modified.\n",
    "- It has a default recursion limit of 1000 calls to prevent stack overflow\n",
    "\n",
    "### Tail recursion and why it isnt optimized in python\n",
    "- It is a form of recursion where the last operation is a recursive call.It isn't optimized to avoid creating new stack frames ,reducing memory usage.\n",
    "\n",
    "### How recursion can be converted into iteration to avoid excessive memory usage\n",
    "- It can rewritten as an iterative loop(for loop &while loop ) to reduce memory.\n",
    "\n",
    "\n"
   ]
  },
  {
   "cell_type": "code",
   "execution_count": 6,
   "metadata": {},
   "outputs": [
    {
     "name": "stdout",
     "output_type": "stream",
     "text": [
      "120\n"
     ]
    }
   ],
   "source": [
    "## For example\n",
    "def factorial_iterative(n):\n",
    "    result = 1\n",
    "    for i in range(1, n + 1):\n",
    "        result *= i\n",
    "    return result\n",
    "\n",
    "print(factorial_iterative(5))"
   ]
  },
  {
   "cell_type": "markdown",
   "metadata": {},
   "source": [
    "\n",
    "# advantages and disadvantages of recursion\n"
   ]
  },
  {
   "cell_type": "markdown",
   "metadata": {},
   "source": [
    "### Situations in which recursion is more readable than loops\n",
    "- When dealing with problems with a hierarchial or nested structure, recursive mathematical problems and divide and conquer algorithms.\n",
    "\n",
    "### Risks of using recursion in terms of performance and memory\n",
    "- It can lead to high memory usage due to stack overflow\n",
    "- Performance overhead/function call overhead which slows down execution.\n",
    "- Makes it harder to trace errors and debug issues\n",
    "\n",
    "\n",
    "### Factors considered  when deciding between recursion and iteration\n",
    "- Readability and Maintainability\n",
    "- Performance (Time Complexity)\n",
    "- Ease of Implementation\n",
    "- Space Complexity:\n",
    "\n",
    "\n",
    "\n"
   ]
  },
  {
   "cell_type": "markdown",
   "metadata": {},
   "source": [
    "# Fibonnaci series"
   ]
  },
  {
   "cell_type": "markdown",
   "metadata": {},
   "source": [
    "- Fibonnaci sequence is a sequence in which each element is the sum of the two elements that precede it\n"
   ]
  },
  {
   "cell_type": "code",
   "execution_count": 7,
   "metadata": {},
   "outputs": [
    {
     "name": "stdout",
     "output_type": "stream",
     "text": [
      "Fibonacci number at position 10 is 55\n"
     ]
    }
   ],
   "source": [
    "### how can fibonnaci numbers be generated using recursion\n",
    "def fibonacci(n):\n",
    "    # Base cases\n",
    "    if n == 0:\n",
    "        return 0\n",
    "    elif n == 1:\n",
    "        return 1\n",
    "    # Recursive case\n",
    "    else:\n",
    "        return fibonacci(n-1) + fibonacci(n-2)\n",
    "\n",
    "# Example usage\n",
    "n = 10\n",
    "print(f\"Fibonacci number at position {n} is {fibonacci(n)}\")"
   ]
  },
  {
   "cell_type": "markdown",
   "metadata": {},
   "source": [
    "### Ineffeciences of the naive recursive aaproach\n",
    "High Memory Usage\n",
    "Stack Overflow\n",
    "Excessive Function Calls\n",
    "\n",
    "\n",
    "### How fibonacci numbers be computed efficienrtly using memorization.\n",
    "- Memorization is an optimization technique that can significantly improve the efficiency of computing Fibonacci numbers by storing the results of previously computed values to avoid redundant calculations. This reduces the time complexity from exponential to linear, O(n)\n",
    "\n",
    "### The time complexity  or recursive,iterative and memorized solutions\n",
    "- The time complexity of a recursive solution whereby, each call to fibonacci(n) generates two additional calls to fibonacci(n-1) and fibonacci(n-2). This results in an exponential number of calls, leading to a time complexity of O(2^n).\n",
    "\n",
    "- The iterative solution uses a loop to compute the Fibonacci sequence up to the n-th number, performing a constant amount of work in each iteration. This results in a time complexity of O(n).\n",
    "\n",
    "- The time complexity of a memorized solution is typically O(n), where n is the number of unique inputs to the function. This is because memoization ensures that each unique subproblem is solved only once.\n",
    "\n",
    "\n",
    "\n",
    "\n"
   ]
  },
  {
   "cell_type": "markdown",
   "metadata": {},
   "source": [
    "# Conclusion\n",
    "### Key takeaways from learning recursion\n",
    "- The base case is the simplest, smallest instance of the problem that can be solved directly. Without it, recursion would continue indefinitely.\n",
    "- In recursive case,the function calls itself with a reduced or modified input, gradually bringing it closer to the base case.\n",
    "- When a function calls itself, it doesn't execute all at once. Each recursive call is placed on the stack, and only when a base case is reached does the stack begin to unwind and return values.\n",
    "- Recursion is about breaking a larger problem into smaller subproblems, solving them, and then combining the results.\n",
    "- Recursive functions can sometimes use a lot of memory because each recursive call adds a new frame to the call stack.\n",
    "### Real world applications of recursion.\n",
    "- Filebased navigation\n",
    "- Mathematical calculations(factorial.fibonacci)\n",
    "- Dynamic programming(finding the shortest route)\n",
    "\n"
   ]
  }
 ],
 "metadata": {
  "kernelspec": {
   "display_name": "Python 3",
   "language": "python",
   "name": "python3"
  },
  "language_info": {
   "codemirror_mode": {
    "name": "ipython",
    "version": 3
   },
   "file_extension": ".py",
   "mimetype": "text/x-python",
   "name": "python",
   "nbconvert_exporter": "python",
   "pygments_lexer": "ipython3",
   "version": "3.12.2"
  }
 },
 "nbformat": 4,
 "nbformat_minor": 2
}
